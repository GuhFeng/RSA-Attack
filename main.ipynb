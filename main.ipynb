{
 "cells": [
  {
   "cell_type": "markdown",
   "metadata": {},
   "source": [
    "# RSA密码破译"
   ]
  },
  {
   "cell_type": "markdown",
   "metadata": {},
   "source": [
    "`Import the necesssary module`"
   ]
  },
  {
   "cell_type": "code",
   "execution_count": 3,
   "metadata": {},
   "outputs": [],
   "source": [
    "import gmpy2\n",
    "from Crypto.Util.number import *\n",
    "import owiener"
   ]
  },
  {
   "cell_type": "markdown",
   "metadata": {},
   "source": [
    "`Load data`"
   ]
  },
  {
   "cell_type": "code",
   "execution_count": 4,
   "metadata": {},
   "outputs": [],
   "source": [
    "def load_data(datanum):\n",
    "    with open(file=\"./test/data%d\" % (datanum), mode='r') as file:\n",
    "        n, e, c = file.read(256), file.read(256), file.read(256)\n",
    "        n, e, c = int(n, 16), int(e, 16), int(c, 16)\n",
    "        return n, e, c\n"
   ]
  },
  {
   "cell_type": "markdown",
   "metadata": {},
   "source": [
    "`Attack RSA`"
   ]
  },
  {
   "cell_type": "code",
   "execution_count": 6,
   "metadata": {},
   "outputs": [],
   "source": [
    "def attack_broadcast(e,lst_c,lst_n):\n",
    "    M=1\n",
    "    for n in lst_n:\n",
    "        M=M*n\n",
    "    lst_M=[]\n",
    "    for n in lst_n:\n",
    "        lst_M+=[M//n]\n",
    "    m_e=M\n",
    "    for i in range(len(lst_c)):\n",
    "        m_e+=lst_c[i]*lst_M[i]*inverse(lst_M[i],lst_n[i])\n",
    "        print(i)\n",
    "    m_e=m_e%M\n",
    "    m=gmpy2.iroot(m_e,e)\n",
    "    i=0\n",
    "    while not m[1]:\n",
    "        m_e+=M\n",
    "        i+=1\n",
    "        m=gmpy2.iroot(m_e,e)\n",
    "    return m"
   ]
  },
  {
   "cell_type": "code",
   "execution_count": 7,
   "metadata": {},
   "outputs": [
    {
     "name": "stdout",
     "output_type": "stream",
     "text": [
      "0\n",
      "1\n",
      "2\n",
      "3\n",
      "4\n"
     ]
    },
    {
     "data": {
      "text/plain": [
       "(mpz(7985094500508197619216095179109374591466840832845633905102428354228364957393952749844260287135965730215484818378063570600824813771406220340542500306493542),\n",
       " True)"
      ]
     },
     "execution_count": 7,
     "metadata": {},
     "output_type": "execute_result"
    }
   ],
   "source": [
    "lst_n,lst_c=[],[]\n",
    "for i in range(21):\n",
    "    n,e,c=load_data(i)\n",
    "    if e==5:\n",
    "        lst_n+=[n]\n",
    "        lst_c+=[c]\n",
    "attack_broadcast(5,lst_c,lst_n)"
   ]
  },
  {
   "cell_type": "code",
   "execution_count": 10,
   "metadata": {},
   "outputs": [
    {
     "name": "stdout",
     "output_type": "stream",
     "text": [
      "3 0\n",
      "65537 1\n",
      "65537 2\n",
      "65537 3\n",
      "5 4\n",
      "5 5\n",
      "3 6\n",
      "5 7\n",
      "65537 8\n",
      "65537 9\n",
      "65537 10\n",
      "46786465362686334917265996843779843233606992585424976481745055335468678697948774988450305612127967926533923268260412557000125153569622340353246096040604284883505587337829322949633637609180797447754513992039018904786537115087888005528547900640339270052628915440787357271345416818313808448127098885767015748889 11\n",
      "65537 12\n",
      "5 13\n",
      "152206992575706893484835984472544529509325440944131662631741403414037956695665533186650071476146389737020554215956181827422540843366433981607643940546405002217220286072880967331118344806315756304650248634546597784597963886656422706197757265316981889118026978865295597135470735576032282694348773714479076093197 14\n",
      "65537 15\n",
      "65537 16\n",
      "3 17\n",
      "5 18\n",
      "65537 19\n",
      "65537 20\n"
     ]
    }
   ],
   "source": [
    "n_lst=[]\n",
    "for i in range(21):\n",
    "    n,e,c=load_data(i)\n",
    "    print(e,i)"
   ]
  },
  {
   "cell_type": "code",
   "execution_count": 9,
   "metadata": {},
   "outputs": [],
   "source": [
    "def fmt(n):\n",
    "    for i in range(100000):\n",
    "        m=gmpy2.iroot(n+i*i,2)\n",
    "        if m[1]:\n",
    "            return 1\n",
    "    return 0\n",
    "    "
   ]
  }
 ],
 "metadata": {
  "interpreter": {
   "hash": "4905652b14e4b7eb92899b78ac499a22c488804455b27940a322fd82aaf71031"
  },
  "kernelspec": {
   "display_name": "Python 3.9.7 ('base')",
   "language": "python",
   "name": "python3"
  },
  "language_info": {
   "codemirror_mode": {
    "name": "ipython",
    "version": 3
   },
   "file_extension": ".py",
   "mimetype": "text/x-python",
   "name": "python",
   "nbconvert_exporter": "python",
   "pygments_lexer": "ipython3",
   "version": "3.9.7"
  },
  "orig_nbformat": 4
 },
 "nbformat": 4,
 "nbformat_minor": 2
}
