{
 "cells": [
  {
   "cell_type": "markdown",
   "metadata": {},
   "source": [
    "# **_Event Extraction_**"
   ]
  },
  {
   "cell_type": "markdown",
   "metadata": {},
   "source": [
    "`Import packeges`  \n",
    "Using spacy dependency parser model"
   ]
  },
  {
   "cell_type": "code",
   "execution_count": 1,
   "metadata": {},
   "outputs": [],
   "source": [
    "import spacy\n",
    "from spacy import displacy\n",
    "import re\n",
    "from nltk.tree import Tree\n",
    "\n",
    "nlp = spacy.load('en_core_web_trf')\n"
   ]
  },
  {
   "cell_type": "markdown",
   "metadata": {},
   "source": [
    "`Load data`  \n",
    "We load the corpus to a list"
   ]
  },
  {
   "cell_type": "code",
   "execution_count": 2,
   "metadata": {},
   "outputs": [],
   "source": [
    "corpus = []\n",
    "with open(\"./data/dataset.txt\") as file:\n",
    "    sentence = file.readline()\n",
    "    while sentence:\n",
    "        corpus += [sentence]\n",
    "        sentence = file.readline()\n"
   ]
  },
  {
   "cell_type": "markdown",
   "metadata": {},
   "source": [
    "`Preprocess corpus`  \n",
    "We mainly use regular expression to process the corpus"
   ]
  },
  {
   "cell_type": "code",
   "execution_count": 22,
   "metadata": {},
   "outputs": [],
   "source": [
    "def get_trigger(sentence: str):\n",
    "    trigger = []\n",
    "    tags = [' <e> ', ' </e> ']\n",
    "    for tag in tags:\n",
    "        lst = sentence.split(tag)\n",
    "        for i in range(0, len(lst) - 1):\n",
    "            trigger.append(lst[i].split(' ')[-1])\n",
    "    return trigger\n",
    "\n",
    "\n",
    "trigger = []\n",
    "trigger = [get_trigger(sentence) for sentence in corpus]\n",
    "\n",
    "corpus = [re.sub(\" <[\\S]*> \", \" \", s) for s in corpus]\n",
    "corpus = [re.sub(\" \\. \", \".\", s) for s in corpus]\n",
    "corpus = [re.sub(\" , \", \", \", s) for s in corpus]\n",
    "corpus = [re.sub(\" - \", \" \", s[:-1]) for s in corpus]\n",
    "corpus = [re.sub(\"[ ]{2,}\",\" \",s) for s in corpus]\n"
   ]
  },
  {
   "cell_type": "markdown",
   "metadata": {},
   "source": [
    "`Get dependency tree`  "
   ]
  },
  {
   "cell_type": "code",
   "execution_count": 23,
   "metadata": {},
   "outputs": [
    {
     "name": "stderr",
     "output_type": "stream",
     "text": [
      "E:\\Anaconda3\\lib\\site-packages\\torch\\autocast_mode.py:141: UserWarning: User provided device_type of 'cuda', but CUDA is not available. Disabling\n",
      "  warnings.warn('User provided device_type of \\'cuda\\', but CUDA is not available. Disabling')\n"
     ]
    }
   ],
   "source": [
    "dependency = [nlp(sentence) for sentence in corpus[:10]]\n",
    "def transform(sentence):\n",
    "    def to_nltk_tree(node):\n",
    "        if node.n_lefts + node.n_rights > 0:\n",
    "            return (node.orth_,\n",
    "                        [(child.tag_,to_nltk_tree(child)) for child in node.children])\n",
    "        else:\n",
    "            return node.orth_\n",
    "\n",
    "    return [to_nltk_tree(sent.root) for sent in sentence.sents]\n",
    "\n",
    "trees=[transform(sentence) for sentence in dependency]"
   ]
  }
 ],
 "metadata": {
  "interpreter": {
   "hash": "4905652b14e4b7eb92899b78ac499a22c488804455b27940a322fd82aaf71031"
  },
  "kernelspec": {
   "display_name": "Python 3.9.7 ('base')",
   "language": "python",
   "name": "python3"
  },
  "language_info": {
   "codemirror_mode": {
    "name": "ipython",
    "version": 3
   },
   "file_extension": ".py",
   "mimetype": "text/x-python",
   "name": "python",
   "nbconvert_exporter": "python",
   "pygments_lexer": "ipython3",
   "version": "3.9.7"
  },
  "orig_nbformat": 4
 },
 "nbformat": 4,
 "nbformat_minor": 2
}
