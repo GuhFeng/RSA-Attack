{
 "cells": [
  {
   "cell_type": "markdown",
   "metadata": {},
   "source": [
    "# RSA密码破译"
   ]
  },
  {
   "cell_type": "markdown",
   "metadata": {},
   "source": [
    "`Import the necesssary module`"
   ]
  },
  {
   "cell_type": "code",
   "execution_count": 2,
   "metadata": {},
   "outputs": [
    {
     "ename": "ModuleNotFoundError",
     "evalue": "No module named 'Wiener.py'; 'Wiener' is not a package",
     "output_type": "error",
     "traceback": [
      "\u001b[0;31m---------------------------------------------------------------------------\u001b[0m",
      "\u001b[0;31mModuleNotFoundError\u001b[0m                       Traceback (most recent call last)",
      "\u001b[1;32m/mnt/d/22_summer_source/算法分析与设计/project/RSA密码破译/main.ipynb Cell 3'\u001b[0m in \u001b[0;36m<module>\u001b[0;34m\u001b[0m\n\u001b[1;32m      <a href='vscode-notebook-cell://wsl%2Bubuntu-20.04/mnt/d/22_summer_source/%E7%AE%97%E6%B3%95%E5%88%86%E6%9E%90%E4%B8%8E%E8%AE%BE%E8%AE%A1/project/RSA%E5%AF%86%E7%A0%81%E7%A0%B4%E8%AF%91/main.ipynb#ch0000002vscode-remote?line=1'>2</a>\u001b[0m \u001b[39mimport\u001b[39;00m \u001b[39mtime\u001b[39;00m\n\u001b[1;32m      <a href='vscode-notebook-cell://wsl%2Bubuntu-20.04/mnt/d/22_summer_source/%E7%AE%97%E6%B3%95%E5%88%86%E6%9E%90%E4%B8%8E%E8%AE%BE%E8%AE%A1/project/RSA%E5%AF%86%E7%A0%81%E7%A0%B4%E8%AF%91/main.ipynb#ch0000002vscode-remote?line=2'>3</a>\u001b[0m \u001b[39mimport\u001b[39;00m \u001b[39mgmpy2\u001b[39;00m\n\u001b[0;32m----> <a href='vscode-notebook-cell://wsl%2Bubuntu-20.04/mnt/d/22_summer_source/%E7%AE%97%E6%B3%95%E5%88%86%E6%9E%90%E4%B8%8E%E8%AE%BE%E8%AE%A1/project/RSA%E5%AF%86%E7%A0%81%E7%A0%B4%E8%AF%91/main.ipynb#ch0000002vscode-remote?line=3'>4</a>\u001b[0m \u001b[39mfrom\u001b[39;00m \u001b[39mWiener\u001b[39;00m\u001b[39m.\u001b[39;00m\u001b[39mpy\u001b[39;00m \u001b[39mimport\u001b[39;00m \u001b[39m*\u001b[39m\n",
      "\u001b[0;31mModuleNotFoundError\u001b[0m: No module named 'Wiener.py'; 'Wiener' is not a package"
     ]
    }
   ],
   "source": [
    "import multiprocessing\n",
    "import time\n",
    "import gmpy2\n",
    "from Wiener import *"
   ]
  },
  {
   "cell_type": "markdown",
   "metadata": {},
   "source": [
    "`Load data`"
   ]
  },
  {
   "cell_type": "code",
   "execution_count": 23,
   "metadata": {},
   "outputs": [],
   "source": [
    "def load_data(datanum):\n",
    "    with open(file=\"./attachment2/data%d\" % (datanum), mode='r') as file:\n",
    "        n, e, c = file.read(256), file.read(256), file.read(256)\n",
    "        n, e, c = int(n, 16), int(e, 16), int(c, 16)\n",
    "        return n, e, c\n"
   ]
  },
  {
   "cell_type": "markdown",
   "metadata": {},
   "source": [
    "`Attack RSA`"
   ]
  },
  {
   "cell_type": "code",
   "execution_count": 24,
   "metadata": {},
   "outputs": [],
   "source": [
    "# receive n,e,c as parameters, return m and d\n",
    "# 低加密指数攻击\n",
    "# 已经尝试过, 跑了90min一个没跑出来\n",
    "# 主要原因在于原文m开头添加了一系列的1\n",
    "def attack1(n, e, c):\n",
    "    if e > 2:\n",
    "        return -1\n",
    "    i = 0\n",
    "    while 1:\n",
    "        tmp = gmpy2.iroot(c + i * n, e)\n",
    "        if tmp[1]:\n",
    "            return tmp[0]\n",
    "        else:\n",
    "            i += 1\n",
    "\n",
    "\n",
    "# 低加密指数广播攻击\n",
    "def attack2(n, e, c):\n",
    "    pass\n",
    "    #TODO\n",
    "    return -1\n",
    "\n",
    "\n",
    "# 低解密指数攻击\n",
    "def attack3(n, e, c):\n",
    "    if e < 10000000:\n",
    "        return -1\n",
    "    d=wienerAttack(e,n)\n",
    "    if d!=None:\n",
    "        return gmpy2.powmod(c,d,n)\n",
    "    return -1\n",
    "    \n",
    "\n",
    "attack = attack3\n"
   ]
  },
  {
   "cell_type": "markdown",
   "metadata": {},
   "source": [
    "`The pipeline to attack RSA`"
   ]
  },
  {
   "cell_type": "code",
   "execution_count": 25,
   "metadata": {},
   "outputs": [],
   "source": [
    "def pipeline(num):\n",
    "    n, e, c = load_data(num)\n",
    "    m = attack(n, e, c)\n",
    "    if m == -1:\n",
    "        print(\"Can't solve data%d\\n\" % num)\n",
    "        return\n",
    "    file = open(\"./solution/solution%d_tmp\\n\" % num, \"w\")\n",
    "    # If it is true, please copy it to ./solution/solution(num)\n",
    "    file.writelines([hex(m)])\n",
    "\n",
    "    print(\"Solve data%d\" % num)\n"
   ]
  },
  {
   "cell_type": "markdown",
   "metadata": {},
   "source": [
    "`Use multiprocess to accelerate computation`"
   ]
  },
  {
   "cell_type": "code",
   "execution_count": 26,
   "metadata": {},
   "outputs": [],
   "source": [
    "def multi_process(data_lst):\n",
    "    P_lst = []\n",
    "    for i in data_lst:\n",
    "        process = multiprocessing.Process(target=pipeline, args=(i, ))\n",
    "        P_lst += [process]\n",
    "        process.start()\n",
    "    return P_lst\n",
    "\n",
    "\n",
    "def join_process(p_lst, kill_all):\n",
    "    if kill_all == 1:\n",
    "        for p in p_lst:\n",
    "            p.terminate()\n",
    "            p.join(timeout=0)\n",
    "\n",
    "    else:\n",
    "        for p in p_lst:\n",
    "            p.join(timeout=0)\n",
    "\n",
    "\n",
    "def task_manage(seconds, data_lst):\n",
    "    p_lst = multi_process(data_lst)\n",
    "    while True:\n",
    "        time.sleep(seconds)\n",
    "        print(\"May you give me another several minutes?\")\n",
    "        seconds = float(input()) * 60\n",
    "        if seconds == 0:\n",
    "            join_process(p_lst, 1)\n",
    "            break\n",
    "        else:\n",
    "            join_process(p_lst, 0)\n"
   ]
  },
  {
   "cell_type": "code",
   "execution_count": 27,
   "metadata": {},
   "outputs": [
    {
     "name": "stdout",
     "output_type": "stream",
     "text": [
      "Can't solve data0\n",
      "Can't solve data1\n",
      "\n",
      "\n",
      "Can't solve data2\n",
      "\n",
      "\n",
      "Can't solve data3\n",
      "Can't solve data4\n",
      "\n",
      "Can't solve data5\n",
      "\n",
      "Can't solve data6\n",
      "\n",
      "Can't solve data7\n",
      "\n",
      "Can't solve data8\n",
      "\n",
      "Can't solve data9\n",
      "\n",
      "Can't solve data10\n",
      "\n"
     ]
    },
    {
     "name": "stderr",
     "output_type": "stream",
     "text": [
      "Process Process-75:\n"
     ]
    },
    {
     "name": "stdout",
     "output_type": "stream",
     "text": [
      "Can't solve data12\n"
     ]
    },
    {
     "name": "stderr",
     "output_type": "stream",
     "text": [
      "Traceback (most recent call last):\n"
     ]
    },
    {
     "name": "stdout",
     "output_type": "stream",
     "text": [
      "\n"
     ]
    },
    {
     "name": "stderr",
     "output_type": "stream",
     "text": [
      "  File \"/usr/lib/python3.8/multiprocessing/process.py\", line 315, in _bootstrap\n",
      "    self.run()\n"
     ]
    },
    {
     "name": "stdout",
     "output_type": "stream",
     "text": [
      "Can't solve data13\n"
     ]
    },
    {
     "name": "stderr",
     "output_type": "stream",
     "text": [
      "  File \"/usr/lib/python3.8/multiprocessing/process.py\", line 108, in run\n",
      "    self._target(*self._args, **self._kwargs)\n"
     ]
    },
    {
     "name": "stdout",
     "output_type": "stream",
     "text": [
      "\n"
     ]
    },
    {
     "name": "stderr",
     "output_type": "stream",
     "text": [
      "  File \"/tmp/ipykernel_1425/2232618611.py\", line 3, in pipeline\n",
      "    m = attack(n, e, c)\n",
      "  File \"/tmp/ipykernel_1425/3113956697.py\", line 28, in attack3\n",
      "    d=wienerAttack(e,n)\n",
      "Process Process-78:\n",
      "  File \"/mnt/d/22_summer_source/算法分析与设计/project/RSA密码破译/Wiener.py\", line 35, in wienerAttack\n",
      "    for (d, k) in calculateFrac(e, n):\n",
      "  File \"/mnt/d/22_summer_source/算法分析与设计/project/RSA密码破译/Wiener.py\", line 24, in calculateFrac\n",
      "    cF = map(Simplify, (cF[0:i] for i in range(len(cF))))\n",
      "NameError: name 'xrange' is not defined\n"
     ]
    },
    {
     "name": "stdout",
     "output_type": "stream",
     "text": [
      "Can't solve data15\n"
     ]
    },
    {
     "name": "stderr",
     "output_type": "stream",
     "text": [
      "Traceback (most recent call last):\n"
     ]
    },
    {
     "name": "stdout",
     "output_type": "stream",
     "text": [
      "\n"
     ]
    },
    {
     "name": "stderr",
     "output_type": "stream",
     "text": [
      "  File \"/usr/lib/python3.8/multiprocessing/process.py\", line 315, in _bootstrap\n",
      "    self.run()\n",
      "  File \"/usr/lib/python3.8/multiprocessing/process.py\", line 108, in run\n",
      "    self._target(*self._args, **self._kwargs)\n"
     ]
    },
    {
     "name": "stdout",
     "output_type": "stream",
     "text": [
      "Can't solve data16\n"
     ]
    },
    {
     "name": "stderr",
     "output_type": "stream",
     "text": [
      "  File \"/tmp/ipykernel_1425/2232618611.py\", line 3, in pipeline\n",
      "    m = attack(n, e, c)\n"
     ]
    },
    {
     "name": "stdout",
     "output_type": "stream",
     "text": [
      "\n",
      "Can't solve data17\n"
     ]
    },
    {
     "name": "stderr",
     "output_type": "stream",
     "text": [
      "  File \"/tmp/ipykernel_1425/3113956697.py\", line 28, in attack3\n",
      "    d=wienerAttack(e,n)\n"
     ]
    },
    {
     "name": "stdout",
     "output_type": "stream",
     "text": [
      "\n"
     ]
    },
    {
     "name": "stderr",
     "output_type": "stream",
     "text": [
      "  File \"/mnt/d/22_summer_source/算法分析与设计/project/RSA密码破译/Wiener.py\", line 35, in wienerAttack\n",
      "    for (d, k) in calculateFrac(e, n):\n"
     ]
    },
    {
     "name": "stdout",
     "output_type": "stream",
     "text": [
      "Can't solve data18\n"
     ]
    },
    {
     "name": "stderr",
     "output_type": "stream",
     "text": [
      "  File \"/mnt/d/22_summer_source/算法分析与设计/project/RSA密码破译/Wiener.py\", line 24, in calculateFrac\n",
      "    cF = map(Simplify, (cF[0:i] for i in range(len(cF))))\n"
     ]
    },
    {
     "name": "stdout",
     "output_type": "stream",
     "text": [
      "\n"
     ]
    },
    {
     "name": "stderr",
     "output_type": "stream",
     "text": [
      "NameError: name 'xrange' is not defined\n"
     ]
    },
    {
     "name": "stdout",
     "output_type": "stream",
     "text": [
      "Can't solve data19\n",
      "\n",
      "Can't solve data20\n",
      "\n",
      "May you give me another several minutes?\n"
     ]
    }
   ],
   "source": [
    "# recommend to set the number of tasks less than the number of your cpus\n",
    "task_manage(.01 * 60, list(range(21)))"
   ]
  },
  {
   "cell_type": "code",
   "execution_count": 1,
   "metadata": {},
   "outputs": [],
   "source": [
    "%reset"
   ]
  }
 ],
 "metadata": {
  "interpreter": {
   "hash": "4905652b14e4b7eb92899b78ac499a22c488804455b27940a322fd82aaf71031"
  },
  "kernelspec": {
   "display_name": "Python 3.9.7 ('base')",
   "language": "python",
   "name": "python3"
  },
  "language_info": {
   "codemirror_mode": {
    "name": "ipython",
    "version": 3
   },
   "file_extension": ".py",
   "mimetype": "text/x-python",
   "name": "python",
   "nbconvert_exporter": "python",
   "pygments_lexer": "ipython3",
   "version": "3.8.10"
  },
  "orig_nbformat": 4
 },
 "nbformat": 4,
 "nbformat_minor": 2
}
