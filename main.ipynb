{
 "cells": [
  {
   "cell_type": "markdown",
   "metadata": {},
   "source": [
    "# RSA密码破译"
   ]
  },
  {
   "cell_type": "markdown",
   "metadata": {},
   "source": [
    "`Import the necesssary module`"
   ]
  },
  {
   "cell_type": "code",
   "execution_count": 7,
   "metadata": {},
   "outputs": [],
   "source": [
    "import gmpy2\n",
    "from Crypto.Util.number import *\n",
    "import owiener\n",
    "import sage"
   ]
  },
  {
   "cell_type": "markdown",
   "metadata": {},
   "source": [
    "`Load data`"
   ]
  },
  {
   "cell_type": "code",
   "execution_count": 8,
   "metadata": {},
   "outputs": [],
   "source": [
    "def load_data(datanum):\n",
    "    with open(file=\"./test/data%d\" % (datanum), mode='r') as file:\n",
    "        n, e, c = file.read(256), file.read(256), file.read(256)\n",
    "        n, e, c = int(n, 16), int(e, 16), int(c, 16)\n",
    "        return n, e, c\n"
   ]
  },
  {
   "cell_type": "markdown",
   "metadata": {},
   "source": [
    "`Attack RSA`"
   ]
  },
  {
   "cell_type": "code",
   "execution_count": 9,
   "metadata": {},
   "outputs": [],
   "source": [
    "def attack_broadcast(e,lst_c,lst_n):\n",
    "    M=1\n",
    "    for n in lst_n:\n",
    "        M=M*n\n",
    "    lst_M=[]\n",
    "    for n in lst_n:\n",
    "        lst_M+=[M//n]\n",
    "    m_e=M\n",
    "    for i in range(len(lst_c)):\n",
    "        m_e+=lst_c[i]*lst_M[i]*inverse(lst_M[i],lst_n[i])\n",
    "    m_e=m_e%M\n",
    "    m=gmpy2.iroot(m_e,e)\n",
    "    i=0\n",
    "    while not m[1]:\n",
    "        m_e+=M\n",
    "        i+=1\n",
    "        m=gmpy2.iroot(m_e,e)\n",
    "    return m"
   ]
  },
  {
   "cell_type": "code",
   "execution_count": 10,
   "metadata": {},
   "outputs": [
    {
     "name": "stdout",
     "output_type": "stream",
     "text": [
      "0x9876543210abcdef0000000100000000000000000000000000000000000000000000000000000000000000000000000000000000000000007420697320612066\n"
     ]
    }
   ],
   "source": [
    "lst_n,lst_c=[],[]\n",
    "for i in range(21):\n",
    "    n,e,c=load_data(i)\n",
    "    if e==5:\n",
    "        lst_n+=[n]\n",
    "        lst_c+=[c]\n",
    "print(hex(attack_broadcast(5,lst_c,lst_n)[0]))"
   ]
  },
  {
   "cell_type": "code",
   "execution_count": 11,
   "metadata": {},
   "outputs": [],
   "source": [
    "def fmt(n):\n",
    "    for i in range(100000):\n",
    "        m=gmpy2.iroot(n+i*i,2)\n",
    "        if m[1]:\n",
    "            return m[0]-i,m[0]+i\n",
    "    return 0\n",
    "\n",
    "n,e,c=load_data(8)\n",
    "p,q=fmt(n)   "
   ]
  },
  {
   "cell_type": "code",
   "execution_count": 12,
   "metadata": {},
   "outputs": [
    {
     "name": "stdout",
     "output_type": "stream",
     "text": [
      "0x9876543210abcdef00000008000000000000000000000000000000000000000000000000000000000000000000000000000000000000000077696c6c20676574\n"
     ]
    }
   ],
   "source": [
    "def decode(p,q,e,c):\n",
    "    d=inverse(e,(p-1)*(q-1))\n",
    "    m=gmpy2.powmod(c,d,p*q)\n",
    "    print(hex(m))\n",
    "decode(p,q,e,c)"
   ]
  },
  {
   "cell_type": "code",
   "execution_count": 13,
   "metadata": {},
   "outputs": [
    {
     "name": "stdout",
     "output_type": "stream",
     "text": [
      "2 :\n",
      "0x9876543210abcdef0000000a00000000000000000000000000000000000000000000000000000000000000000000000000000000000000006d204120746f2042\n",
      "19 :\n",
      "0x9876543210abcdef0000000b00000000000000000000000000000000000000000000000000000000000000000000000000000000000000002e20496d6167696e\n"
     ]
    }
   ],
   "source": [
    "def attack_gcd(i,j):\n",
    "    n1,e1,c1=load_data(i)\n",
    "    n2,e2,c2=load_data(j)\n",
    "    p1=GCD(n1,n2)\n",
    "    q1=n1//p1\n",
    "    q2=n2//p1\n",
    "    print(i,\":\")\n",
    "    decode(p1,q1,e1,c1)\n",
    "    print(j,\":\")\n",
    "    decode(p1,q2,e2,c2)\n",
    "\n",
    "for i in range(21):\n",
    "    for j in range(21):\n",
    "        n1,e1,c1=load_data(i)\n",
    "        n2,e2,c2=load_data(j)\n",
    "        if GCD(n1,n2)!=1 and i<j and n1!=n2:\n",
    "            attack_gcd(i,j)"
   ]
  },
  {
   "cell_type": "code",
   "execution_count": 14,
   "metadata": {},
   "outputs": [
    {
     "data": {
      "text/plain": [
       "'0x9876543210abcdef0000000000000000000000000000000000000000000000000000000000000000000000000000000000000000000000004d79207365637265'"
      ]
     },
     "execution_count": 14,
     "metadata": {},
     "output_type": "execute_result"
    }
   ],
   "source": [
    "n1,e1,c1=load_data(11)\n",
    "n2,e2,c2=load_data(14)\n",
    "\n",
    "def attack_mod(e1,e2,c1,c2,n):  \n",
    "    e1, e2, c1, c2, n=int(e1),int(e2),int(c1),int(c2),int(n)\n",
    "    s = gmpy2.gcdext(e1, e2)\n",
    "    s1 = s[1]\n",
    "    s2 = s[2]\n",
    "    if s1 < 0:\n",
    "        s1 = - s1\n",
    "        c1 = gmpy2.invert(c1, n)\n",
    "    elif s2 < 0:\n",
    "        s2 = - s2\n",
    "        c2 = gmpy2.invert(c2, n)\n",
    "    m = (pow(c1,s1,n) * pow(c2 ,s2 ,n)) % n\n",
    "    return hex(m)\n",
    "attack_mod(e1,e2,c1,c2,n1)"
   ]
  },
  {
   "cell_type": "code",
   "execution_count": null,
   "metadata": {},
   "outputs": [],
   "source": [
    "m_0=0x9876543210abcdef00000003000000000000000000000000000000000000000000000000000000000000000000000000000000000000000079696e67206f6620\n",
    "m_6=0x9876543210abcdef000000040000000000000000000000000000000000000000000000000000000000000000000000000000000000000000416c626572742045\n",
    "m_17=0x9876543210abcdef000000020000000000000000000000000000000000000000000000000000000000000000000000000000000000000000616d6f7573207361"
   ]
  }
 ],
 "metadata": {
  "interpreter": {
   "hash": "f8b40d688a12481f01eadf7380c47edd8a49484a47dba3db091451640e880c68"
  },
  "kernelspec": {
   "display_name": "Python 3.9.7 ('base')",
   "language": "python",
   "name": "python3"
  },
  "language_info": {
   "codemirror_mode": {
    "name": "ipython",
    "version": 3
   },
   "file_extension": ".py",
   "mimetype": "text/x-python",
   "name": "python",
   "nbconvert_exporter": "python",
   "pygments_lexer": "ipython3",
   "version": "3.9.7"
  },
  "orig_nbformat": 4
 },
 "nbformat": 4,
 "nbformat_minor": 2
}
