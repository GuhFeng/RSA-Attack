{
 "cells": [
  {
   "cell_type": "markdown",
   "metadata": {},
   "source": [
    "# RSA密码破译"
   ]
  },
  {
   "cell_type": "markdown",
   "metadata": {},
   "source": [
    "`Import the necesssary module`"
   ]
  },
  {
   "cell_type": "code",
   "execution_count": 12,
   "metadata": {},
   "outputs": [],
   "source": [
    "from sympy.ntheory.modular import crt\n",
    "import gmpy2\n",
    "import owiener"
   ]
  },
  {
   "cell_type": "markdown",
   "metadata": {},
   "source": [
    "`Load data`"
   ]
  },
  {
   "cell_type": "code",
   "execution_count": 13,
   "metadata": {},
   "outputs": [],
   "source": [
    "def load_data(datanum):\n",
    "    with open(file=\"./test/data%d\" % (datanum), mode='r') as file:\n",
    "        n, e, c = file.read(256), file.read(256), file.read(256)\n",
    "        n, e, c = int(n, 16), int(e, 16), int(c, 16)\n",
    "        return n, e, c\n"
   ]
  },
  {
   "cell_type": "markdown",
   "metadata": {},
   "source": [
    "`Attack RSA`"
   ]
  },
  {
   "cell_type": "code",
   "execution_count": 14,
   "metadata": {},
   "outputs": [],
   "source": [
    "# receive n,e,c as parameters, return m and d\n",
    "# 低加密指数攻击\n",
    "# 已经尝试过, 跑了90min一个没跑出来\n",
    "# 主要原因在于原文m开头添加了一系列的1\n",
    "def attack1(n, e, c):\n",
    "    if e > 2:\n",
    "        return -1\n",
    "    i = 0\n",
    "    while 1:\n",
    "        tmp = gmpy2.iroot(c + i * n, e)\n",
    "        if tmp[1]:\n",
    "            return tmp[0]\n",
    "        else:\n",
    "            i += 1\n",
    "\n",
    "\n",
    "# 低加密指数广播攻击\n",
    "def attack2(n, e, c):\n",
    "    pass\n",
    "    #TODO\n",
    "    return -1\n",
    "\n",
    "\n",
    "# 维纳攻击\n",
    "def attack3(n, e, c):\n",
    "    if e < 10000000:\n",
    "        return -1\n",
    "    d=owiener.attack(e,n)\n",
    "    if d is None:\n",
    "        print(\"Failed\")\n",
    "    else:\n",
    "        print(\"Hacked d={}\".format(d))\n",
    "    \n",
    "\n"
   ]
  }
 ],
 "metadata": {
  "interpreter": {
   "hash": "4905652b14e4b7eb92899b78ac499a22c488804455b27940a322fd82aaf71031"
  },
  "kernelspec": {
   "display_name": "Python 3.9.7 ('base')",
   "language": "python",
   "name": "python3"
  },
  "language_info": {
   "codemirror_mode": {
    "name": "ipython",
    "version": 3
   },
   "file_extension": ".py",
   "mimetype": "text/x-python",
   "name": "python",
   "nbconvert_exporter": "python",
   "pygments_lexer": "ipython3",
   "version": "3.9.7"
  },
  "orig_nbformat": 4
 },
 "nbformat": 4,
 "nbformat_minor": 2
}
