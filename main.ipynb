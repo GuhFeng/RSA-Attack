{
 "cells": [
  {
   "cell_type": "markdown",
   "metadata": {},
   "source": [
    "# RSA密码破译"
   ]
  },
  {
   "cell_type": "markdown",
   "metadata": {},
   "source": [
    "`Import the necesssary module`"
   ]
  },
  {
   "cell_type": "code",
   "execution_count": 18,
   "metadata": {},
   "outputs": [],
   "source": [
    "from sympy.ntheory.modular import crt\n",
    "import gmpy2\n",
    "from Crypto.Util.number import *\n",
    "import owiener"
   ]
  },
  {
   "cell_type": "markdown",
   "metadata": {},
   "source": [
    "`Load data`"
   ]
  },
  {
   "cell_type": "code",
   "execution_count": 4,
   "metadata": {},
   "outputs": [],
   "source": [
    "def load_data(datanum):\n",
    "    with open(file=\"./test/data%d\" % (datanum), mode='r') as file:\n",
    "        n, e, c = file.read(256), file.read(256), file.read(256)\n",
    "        n, e, c = int(n, 16), int(e, 16), int(c, 16)\n",
    "        return n, e, c\n"
   ]
  },
  {
   "cell_type": "markdown",
   "metadata": {},
   "source": [
    "`Attack RSA`"
   ]
  },
  {
   "cell_type": "code",
   "execution_count": 5,
   "metadata": {},
   "outputs": [],
   "source": [
    "# receive n,e,c as parameters, return m and d\n",
    "# 低加密指数攻击\n",
    "# 已经尝试过, 跑了90min一个没跑出来\n",
    "# 主要原因在于原文m开头添加了一系列的1\n",
    "def attack1(n, e, c):\n",
    "    if e > 2:\n",
    "        return -1\n",
    "    i = 0\n",
    "    while 1:\n",
    "        tmp = gmpy2.iroot(c + i * n, e)\n",
    "        if tmp[1]:\n",
    "            return tmp[0]\n",
    "        else:\n",
    "            i += 1\n",
    "\n",
    "\n",
    "# 低加密指数广播攻击\n",
    "def attack2(n, e, c):\n",
    "    pass\n",
    "    #TODO\n",
    "    return -1\n",
    "\n",
    "\n",
    "# 维纳攻击\n",
    "def attack3(n, e, c):\n",
    "    if e < 10000000:\n",
    "        return -1\n",
    "    d=owiener.attack(e,n)\n",
    "    if d is None:\n",
    "        print(\"Failed\")\n",
    "    else:\n",
    "        print(\"Hacked d={}\".format(d))\n",
    "    \n",
    "import math\n"
   ]
  },
  {
   "cell_type": "code",
   "execution_count": 6,
   "metadata": {},
   "outputs": [],
   "source": [
    "def attack_broadcast(e,lst_c,lst_n):\n",
    "    M=1\n",
    "    for n in lst_n:\n",
    "        M=M*n\n",
    "    lst_M=[]\n",
    "    for n in lst_n:\n",
    "        lst_M+=[M//n]\n",
    "    m_e=M\n",
    "    for i in range(len(lst_c)):\n",
    "        m_e+=lst_c[i]*lst_M[i]*invert(lst_M[i],lst_n[i])\n",
    "        print(i)\n",
    "    m_e=m_e%M\n",
    "    m=iroot(m_e,e)\n",
    "    i=0\n",
    "    while not m[1]:\n",
    "        m_e+=M\n",
    "        i+=1\n",
    "        m=iroot(m_e,e)\n",
    "    return m"
   ]
  },
  {
   "cell_type": "code",
   "execution_count": 26,
   "metadata": {},
   "outputs": [
    {
     "name": "stdout",
     "output_type": "stream",
     "text": [
      "0 3\n",
      "1 65537\n",
      "2 65537\n",
      "3 65537\n",
      "4 5\n",
      "5 5\n",
      "6 3\n",
      "7 5\n",
      "8 65537\n",
      "9 65537\n",
      "10 65537\n",
      "11 46786465362686334917265996843779843233606992585424976481745055335468678697948774988450305612127967926533923268260412557000125153569622340353246096040604284883505587337829322949633637609180797447754513992039018904786537115087888005528547900640339270052628915440787357271345416818313808448127098885767015748889\n",
      "12 65537\n",
      "13 5\n",
      "14 152206992575706893484835984472544529509325440944131662631741403414037956695665533186650071476146389737020554215956181827422540843366433981607643940546405002217220286072880967331118344806315756304650248634546597784597963886656422706197757265316981889118026978865295597135470735576032282694348773714479076093197\n",
      "15 65537\n",
      "16 65537\n",
      "17 3\n",
      "18 5\n",
      "19 65537\n",
      "20 65537\n"
     ]
    }
   ],
   "source": [
    "lst_c,lst_n=[],[]\n",
    "for i in range(21):\n",
    "    n,e,c=load_data(i)\n",
    "    print(i,e)"
   ]
  }
 ],
 "metadata": {
  "interpreter": {
   "hash": "4905652b14e4b7eb92899b78ac499a22c488804455b27940a322fd82aaf71031"
  },
  "kernelspec": {
   "display_name": "Python 3.9.7 ('base')",
   "language": "python",
   "name": "python3"
  },
  "language_info": {
   "codemirror_mode": {
    "name": "ipython",
    "version": 3
   },
   "file_extension": ".py",
   "mimetype": "text/x-python",
   "name": "python",
   "nbconvert_exporter": "python",
   "pygments_lexer": "ipython3",
   "version": "3.9.7"
  },
  "orig_nbformat": 4
 },
 "nbformat": 4,
 "nbformat_minor": 2
}
