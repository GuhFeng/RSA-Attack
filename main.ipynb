{
 "cells": [
  {
   "cell_type": "markdown",
   "metadata": {},
   "source": [
    "# RSA密码破译"
   ]
  },
  {
   "cell_type": "markdown",
   "metadata": {},
   "source": [
    "`Import the necesssary module`"
   ]
  },
  {
   "cell_type": "code",
   "execution_count": 23,
   "metadata": {},
   "outputs": [],
   "source": [
    "import gmpy2\n",
    "import owiener\n",
    "import pollardrho as pr"
   ]
  },
  {
   "cell_type": "markdown",
   "metadata": {},
   "source": [
    "`Load data`"
   ]
  },
  {
   "cell_type": "code",
   "execution_count": 24,
   "metadata": {},
   "outputs": [],
   "source": [
    "def load_data(datanum):\n",
    "    \"\"\"\n",
    "    Load RSA data to attack. \n",
    "    Args:\n",
    "        datanum (int): The serial number of the RSA data\n",
    "    Returns:\n",
    "        n,e,c\n",
    "    \"\"\"\n",
    "    with open(file=\"./test/data%d\" % (datanum), mode='r') as file:\n",
    "        n, e, c = file.read(256), file.read(256), file.read(256)\n",
    "        n, e, c = int(n, 16), int(e, 16), int(c, 16)\n",
    "        return n, e, c\n",
    "\n",
    "\n",
    "def decode(s: str):\n",
    "    s = s[-16:]\n",
    "    out = \"\"\n",
    "    for i in range(8):\n",
    "        tmp = s[i * 2:(i + 1) * 2]\n",
    "        out += chr(int(tmp, 16))\n",
    "    print(out)"
   ]
  },
  {
   "cell_type": "markdown",
   "metadata": {},
   "source": [
    "`Attack RSA`"
   ]
  },
  {
   "cell_type": "code",
   "execution_count": 25,
   "metadata": {},
   "outputs": [],
   "source": [
    "def attack_broadcast(e, lst_c, lst_n):\n",
    "    \"\"\"\n",
    "    Broadcast attack for small e\n",
    "    \"\"\"\n",
    "    M = 1\n",
    "    for n in lst_n:\n",
    "        M = M * n\n",
    "    lst_M = []\n",
    "    for n in lst_n:\n",
    "        lst_M += [M // n]\n",
    "    m_e = M\n",
    "    for i in range(len(lst_c)):\n",
    "        m_e += lst_c[i] * lst_M[i] * gmpy2.invert(lst_M[i], lst_n[i])\n",
    "    m_e = m_e % M\n",
    "    m = gmpy2.iroot(m_e, e)\n",
    "    i = 0\n",
    "    while not m[1]:\n",
    "        m_e += M\n",
    "        i += 1\n",
    "        m = gmpy2.iroot(m_e, e)\n",
    "    return m"
   ]
  },
  {
   "cell_type": "code",
   "execution_count": 26,
   "metadata": {},
   "outputs": [],
   "source": [
    "def Wiener_attack(n, e, c):\n",
    "    \"\"\"\n",
    "    Wiener attack, for low decryption.\n",
    "    \"\"\"\n",
    "    d = owiener.attack(e, n)\n",
    "    if d != None:\n",
    "        m = gmpy2.powmod(c, d, n)\n",
    "        return m\n",
    "\n",
    "\n",
    "for i in range(21):\n",
    "    n, e, c = load_data(i)\n",
    "    if Wiener_attack(n, e, c):\n",
    "        print(i, \"\", hex(Wiener_attack(n, e, c)))\n"
   ]
  },
  {
   "cell_type": "code",
   "execution_count": 28,
   "metadata": {},
   "outputs": [
    {
     "name": "stdout",
     "output_type": "stream",
     "text": [
      "[4, 5, 7, 13, 18] :\n",
      "0x9876543210abcdef0000000100000000000000000000000000000000000000000000000000000000000000000000000000000000000000007420697320612066\n",
      "t is a f\n"
     ]
    }
   ],
   "source": [
    "lst_n, lst_c, lst_i = [], [], []\n",
    "for i in range(21):\n",
    "    n, e, c = load_data(i)\n",
    "    if e == 5:\n",
    "        lst_n += [n]\n",
    "        lst_c += [c]\n",
    "        lst_i += [i]\n",
    "print(lst_i, \":\")\n",
    "m = hex(attack_broadcast(5, lst_c, lst_n)[0])\n",
    "print(m)\n",
    "decode(m)\n"
   ]
  },
  {
   "cell_type": "code",
   "execution_count": 33,
   "metadata": {},
   "outputs": [
    {
     "name": "stdout",
     "output_type": "stream",
     "text": [
      "8 :\n",
      "0x9876543210abcdef00000008000000000000000000000000000000000000000000000000000000000000000000000000000000000000000077696c6c20676574\n",
      "will get\n",
      "10 :\n",
      "0x9876543210abcdef00000009000000000000000000000000000000000000000000000000000000000000000000000000000000000000000020796f752066726f\n",
      " you fro\n"
     ]
    }
   ],
   "source": [
    "def fmt(n):\n",
    "    \"\"\"\n",
    "    Format decomposition of n\n",
    "    \"\"\"\n",
    "    a = gmpy2.iroot(n, 2)\n",
    "    a = a[0] + 1\n",
    "    for _ in range(100000000):\n",
    "        m = gmpy2.iroot(a * a - n, 2)\n",
    "        if m[1]:\n",
    "            return a - m[0], a + m[0]\n",
    "        a = a + 1\n",
    "    return 0, 0\n",
    "\n",
    "\n",
    "def decrypt(p, q, e, c):\n",
    "    \"\"\"\n",
    "    Given n = p * q, and e, c, decrypt the message. \n",
    "    \"\"\"\n",
    "    d = gmpy2.invert(e, (p - 1) * (q - 1))\n",
    "    m = gmpy2.powmod(c, d, p * q)\n",
    "    print(hex(m))\n",
    "    decode(hex(m))\n",
    "\n",
    "\n",
    "for i in range(21):\n",
    "    n, e, c = load_data(i)\n",
    "    p, q = fmt(n)\n",
    "    if p:\n",
    "        print(i, \":\")\n",
    "        decrypt(p, q, e, c)"
   ]
  },
  {
   "cell_type": "code",
   "execution_count": 34,
   "metadata": {},
   "outputs": [
    {
     "name": "stdout",
     "output_type": "stream",
     "text": [
      "2 :\n",
      "0x9876543210abcdef0000000a00000000000000000000000000000000000000000000000000000000000000000000000000000000000000006d204120746f2042\n",
      "m A to B\n",
      "19 :\n",
      "0x9876543210abcdef0000000b00000000000000000000000000000000000000000000000000000000000000000000000000000000000000002e20496d6167696e\n",
      ". Imagin\n"
     ]
    }
   ],
   "source": [
    "def attack_gcd(i, j):\n",
    "    \"\"\"\n",
    "    Try to check if the n in i-th data and n in j-th data have common factor.\n",
    "    \"\"\"\n",
    "    n1, e1, c1 = load_data(i)\n",
    "    n2, e2, c2 = load_data(j)\n",
    "    p1 = gmpy2.gcd(n1, n2)\n",
    "    q1 = n1 // p1\n",
    "    q2 = n2 // p1\n",
    "    print(i, \":\")\n",
    "    decrypt(p1, q1, e1, c1)\n",
    "    print(j, \":\")\n",
    "    decrypt(p1, q2, e2, c2)\n",
    "\n",
    "\n",
    "for i in range(21):\n",
    "    for j in range(21):\n",
    "        n1, e1, c1 = load_data(i)\n",
    "        n2, e2, c2 = load_data(j)\n",
    "        if gmpy2.gcd(n1, n2) != 1 and i < j and n1 != n2:\n",
    "            attack_gcd(i, j)\n"
   ]
  },
  {
   "cell_type": "code",
   "execution_count": 36,
   "metadata": {},
   "outputs": [
    {
     "name": "stdout",
     "output_type": "stream",
     "text": [
      "[11, 14] :\n",
      "0x9876543210abcdef0000000000000000000000000000000000000000000000000000000000000000000000000000000000000000000000004d79207365637265\n",
      "My secre\n"
     ]
    }
   ],
   "source": [
    "def attack_mod(e1, e2, c1, c2, n):\n",
    "    \"\"\"\n",
    "    Attack when the same message was encrypted with the same n but different e.\n",
    "    \"\"\"\n",
    "    e1, e2, c1, c2, n = int(e1), int(e2), int(c1), int(c2), int(n)\n",
    "    s = gmpy2.gcdext(e1, e2)\n",
    "    s1 = s[1]\n",
    "    s2 = s[2]\n",
    "    if s1 < 0:\n",
    "        s1 = -s1\n",
    "        c1 = gmpy2.invert(c1, n)\n",
    "    elif s2 < 0:\n",
    "        s2 = -s2\n",
    "        c2 = gmpy2.invert(c2, n)\n",
    "    m = (pow(c1, s1, n) * pow(c2, s2, n)) % n\n",
    "    return hex(m)\n",
    "\n",
    "\n",
    "for i in range(21):\n",
    "    for j in range(21):\n",
    "        n1, e1, c1 = load_data(i)\n",
    "        n2, e2, c2 = load_data(j)\n",
    "        if i < j and n1 == n2:\n",
    "            print([i, j], \":\")\n",
    "            m=attack_mod(e1, e2, c1, c2, n1)\n",
    "            print(m)\n",
    "            decode(m)\n",
    "            \n"
   ]
  },
  {
   "cell_type": "code",
   "execution_count": 37,
   "metadata": {},
   "outputs": [
    {
     "name": "stdout",
     "output_type": "stream",
     "text": [
      "0 : 0x9876543210abcdef00000003000000000000000000000000000000000000000000000000000000000000000000000000000000000000000079696e67206f6620\n",
      "ying of \n",
      "6 : 0x9876543210abcdef000000040000000000000000000000000000000000000000000000000000000000000000000000000000000000000000416c626572742045\n",
      "Albert E\n",
      "17 : 0x9876543210abcdef000000020000000000000000000000000000000000000000000000000000000000000000000000000000000000000000616d6f7573207361\n",
      "amous sa\n"
     ]
    }
   ],
   "source": [
    "\"\"\"\n",
    "Given the high bits of m, and a low encryption, use Copper-Smith attack. \n",
    "The detailed code is in Copper_Smith.sage.\n",
    "\"\"\"\n",
    "m_0 = 0x9876543210abcdef00000003000000000000000000000000000000000000000000000000000000000000000000000000000000000000000079696e67206f6620\n",
    "m_6 = 0x9876543210abcdef000000040000000000000000000000000000000000000000000000000000000000000000000000000000000000000000416c626572742045\n",
    "m_17 = 0x9876543210abcdef000000020000000000000000000000000000000000000000000000000000000000000000000000000000000000000000616d6f7573207361\n",
    "print(\"0 :\", hex(m_0))\n",
    "decode(hex(m_0))\n",
    "print(\"6 :\", hex(m_6))\n",
    "decode(hex(m_6))\n",
    "print(\"17 :\", hex(m_17))\n",
    "decode(hex(m_17))\n"
   ]
  },
  {
   "cell_type": "code",
   "execution_count": 39,
   "metadata": {},
   "outputs": [],
   "source": [
    "B_factorial = 1\n",
    "for i in range(1, 200000):\n",
    "    B_factorial *= i"
   ]
  },
  {
   "cell_type": "code",
   "execution_count": 40,
   "metadata": {},
   "outputs": [
    {
     "name": "stdout",
     "output_type": "stream",
     "text": [
      "1 :\n",
      "0x9876543210abcdef0000000600000000000000000000000000000000000000000000000000000000000000000000000000000000000000002054686174206973\n",
      " That is\n",
      "3 :\n",
      "0x9876543210abcdef000000050000000000000000000000000000000000000000000000000000000000000000000000000000000000000000696e737465696e2e\n",
      "instein.\n",
      "12 :\n",
      "0x9876543210abcdef00000007000000000000000000000000000000000000000000000000000000000000000000000000000000000000000020224c6f67696320\n",
      " \"Logic \n"
     ]
    }
   ],
   "source": [
    "def Pollard_p_1(n, e, c, i):\n",
    "    \"\"\"\n",
    "    Pollard p-1 attack\n",
    "    \"\"\"\n",
    "    a = gmpy2.powmod(2, B_factorial, n)\n",
    "    p = gmpy2.gcd(n, a - 1)\n",
    "    if p != 1:\n",
    "        print(i, \":\")\n",
    "        decrypt(gmpy2.gcd(a - 1, n), n // gmpy2.gcd(a - 1, n), e, c)\n",
    "\n",
    "\n",
    "for i in range(21):\n",
    "    n, e, c = load_data(i)\n",
    "    Pollard_p_1(n, e, c, i)\n"
   ]
  },
  {
   "cell_type": "markdown",
   "metadata": {},
   "source": [
    "## Only data 9,15,16,20 are not attacked."
   ]
  },
  {
   "cell_type": "code",
   "execution_count": 41,
   "metadata": {},
   "outputs": [
    {
     "name": "stdout",
     "output_type": "stream",
     "text": [
      "99193711547257063160816850544214924340574358752670644615293764532335872088470223740970673347993652626497557387222167784182876395436088845281840169701654629849214222297784511349059698963212947299142320497759258889425182705042123217476724761095690092179821753840224757786599021225709340258545979566824267620959\n",
      "65537\n",
      "26054677793581772924866273737009673285775062802734786532404396138990264566536537921648515854012553861999940229349708989519156563830916553754762208466745321226835312974971739761769324569315525872096987367001543758380071859429619580182411498650200401467760546057912183435480924905200466941116258838789328064564\n",
      "111178307033150739104608647474199786251516913698936331430121060587893564405482896814045419370401816305592149685291034839621072343496556225594365571727260237484885924615887468053644519779081871778996851601207571981072261232384577126377714005550318990486619636734701266032569413421915520143377137845245405768733\n",
      "65537\n",
      "1395222187334055833498435136007269572138525113145744882969531037442244086277594803865217301719947066153176244638660864035949705664670633245110847416168796640199238733478540080417312141011028469385167826450855601412915611725028631975605932279023918771764204031806414734015476034106891049334159757621016327648\n",
      "94390533992358895550704225180484604016029781604622607833044135524814562613596803297695605669157378162035217814540004231075201420796787547733762265959320018107419058832819010681344133011777479722382525797938558181629835768471461434560813554411133962651212455645589624432040989600687436833459731886703583047283\n",
      "65537\n",
      "41663689952657185984513733558388033289292857758748468070934326941659317694408873831451567385012905508903797893149006067280788298408959017459890579859784072677410890657854942639040056924596925599973762214900728648657052474974405878868755028761443878403349272421153452240103741921751653022646614028009138548572\n",
      "97767951046154372321400443371234495476461828137251939025051233003462769415459435471728054384852461870179980010660162922547425212869925648424741526671585598167502856111641944825179295197098826911226483155821197251989297102189187139234080795582529077092266799813985026581245196104843272305656744384140745492897\n",
      "65537\n",
      "14375950543873882011796759348848479283522955796749853113492047625299699702886303193822347995567175524401038661237990847185236138967814088030767785916645492142741397786256445305366822277551514353423864240674522264407918605662008550545442780563568811883349771003546081844527788515420708612431091464410712019656\n"
     ]
    }
   ],
   "source": [
    "for i in [9, 15, 16, 20]:\n",
    "    n, e, c = load_data(i)\n",
    "    print(n, e, c, sep=\"\\n\")\n",
    "    Wiener_attack(n, e, c)\n"
   ]
  }
 ],
 "metadata": {
  "interpreter": {
   "hash": "caa79e79b13b4a24ed1e40b8fd425b38aacc1b8fb3707c3bea2d025878df32c5"
  },
  "kernelspec": {
   "display_name": "Python 3.9.7 ('base')",
   "language": "python",
   "name": "python3"
  },
  "language_info": {
   "codemirror_mode": {
    "name": "ipython",
    "version": 3
   },
   "file_extension": ".py",
   "mimetype": "text/x-python",
   "name": "python",
   "nbconvert_exporter": "python",
   "pygments_lexer": "ipython3",
   "version": "3.9.7"
  },
  "orig_nbformat": 4
 },
 "nbformat": 4,
 "nbformat_minor": 2
}
