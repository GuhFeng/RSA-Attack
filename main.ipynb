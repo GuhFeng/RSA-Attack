{
 "cells": [
  {
   "cell_type": "markdown",
   "metadata": {},
   "source": [
    "# RSA密码破译"
   ]
  },
  {
   "cell_type": "markdown",
   "metadata": {},
   "source": [
    "`Import the necesssary module`"
   ]
  },
  {
   "cell_type": "code",
   "execution_count": 18,
   "metadata": {},
   "outputs": [],
   "source": [
    "import gmpy2\n",
    "from Crypto.Util.number import *\n",
    "import owiener"
   ]
  },
  {
   "cell_type": "markdown",
   "metadata": {},
   "source": [
    "`Load data`"
   ]
  },
  {
   "cell_type": "code",
   "execution_count": 19,
   "metadata": {},
   "outputs": [],
   "source": [
    "def load_data(datanum):\n",
    "    with open(file=\"./test/data%d\" % (datanum), mode='r') as file:\n",
    "        n, e, c = file.read(256), file.read(256), file.read(256)\n",
    "        n, e, c = int(n, 16), int(e, 16), int(c, 16)\n",
    "        return n, e, c\n"
   ]
  },
  {
   "cell_type": "markdown",
   "metadata": {},
   "source": [
    "`Attack RSA`"
   ]
  },
  {
   "cell_type": "code",
   "execution_count": 20,
   "metadata": {},
   "outputs": [],
   "source": [
    "# receive n,e,c as parameters, return m and d\n",
    "# 低加密指数攻击\n",
    "# 已经尝试过, 跑了90min一个没跑出来\n",
    "# 主要原因在于原文m开头添加了一系列的1\n",
    "def attack1(n, e, c):\n",
    "    M=c\n",
    "    while 1:\n",
    "        tmp = gmpy2.iroot(M, e)\n",
    "        if tmp[1]:\n",
    "            return tmp[0]\n",
    "        else:\n",
    "            M+=n\n",
    "\n",
    "\n",
    "# 低加密指数广播攻击\n",
    "def attack2(n, e, c):\n",
    "    pass\n",
    "    #TODO\n",
    "    return -1\n",
    "\n",
    "\n",
    "# 维纳攻击\n",
    "def attack3(n, e, c):\n",
    "    if e < 10000000:\n",
    "        return -1\n",
    "    d=owiener.attack(e,n)\n",
    "    if d is None:\n",
    "        print(\"Failed\")\n",
    "    else:\n",
    "        print(\"Hacked d={}\".format(d))\n",
    "    \n",
    "import math\n"
   ]
  },
  {
   "cell_type": "code",
   "execution_count": 21,
   "metadata": {},
   "outputs": [],
   "source": [
    "def attack_broadcast(e,lst_c,lst_n):\n",
    "    M=1\n",
    "    for n in lst_n:\n",
    "        M=M*n\n",
    "    lst_M=[]\n",
    "    for n in lst_n:\n",
    "        lst_M+=[M//n]\n",
    "    m_e=M\n",
    "    for i in range(len(lst_c)):\n",
    "        m_e+=lst_c[i]*lst_M[i]*inverse(lst_M[i],lst_n[i])\n",
    "        print(i)\n",
    "    m_e=m_e%M\n",
    "    m=gmpy2.iroot(m_e,e)\n",
    "    i=0\n",
    "    while not m[1]:\n",
    "        m_e+=M\n",
    "        i+=1\n",
    "        m=gmpy2.iroot(m_e,e)\n",
    "    return m"
   ]
  },
  {
   "cell_type": "code",
   "execution_count": 22,
   "metadata": {},
   "outputs": [
    {
     "name": "stdout",
     "output_type": "stream",
     "text": [
      "0\n",
      "1\n",
      "2\n",
      "3\n",
      "4\n"
     ]
    },
    {
     "data": {
      "text/plain": [
       "(mpz(7985094500508197619216095179109374591466840832845633905102428354228364957393952749844260287135965730215484818378063570600824813771406220340542500306493542),\n",
       " True)"
      ]
     },
     "execution_count": 22,
     "metadata": {},
     "output_type": "execute_result"
    }
   ],
   "source": [
    "lst_n,lst_c=[],[]\n",
    "for i in range(21):\n",
    "    n,e,c=load_data(i)\n",
    "    if e==5:\n",
    "        lst_n+=[n]\n",
    "        lst_c+=[c]\n",
    "attack_broadcast(5,lst_c,lst_n)"
   ]
  },
  {
   "cell_type": "code",
   "execution_count": 24,
   "metadata": {},
   "outputs": [],
   "source": []
  }
 ],
 "metadata": {
  "interpreter": {
   "hash": "4905652b14e4b7eb92899b78ac499a22c488804455b27940a322fd82aaf71031"
  },
  "kernelspec": {
   "display_name": "Python 3.9.7 ('base')",
   "language": "python",
   "name": "python3"
  },
  "language_info": {
   "codemirror_mode": {
    "name": "ipython",
    "version": 3
   },
   "file_extension": ".py",
   "mimetype": "text/x-python",
   "name": "python",
   "nbconvert_exporter": "python",
   "pygments_lexer": "ipython3",
   "version": "3.9.7"
  },
  "orig_nbformat": 4
 },
 "nbformat": 4,
 "nbformat_minor": 2
}
