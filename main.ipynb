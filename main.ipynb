{
 "cells": [
  {
   "cell_type": "markdown",
   "metadata": {},
   "source": [
    "# **_Event Extraction_**"
   ]
  },
  {
   "cell_type": "markdown",
   "metadata": {},
   "source": [
    "`Import Packeges`  \n",
    "Using spacy dependency parser model"
   ]
  },
  {
   "cell_type": "code",
   "execution_count": 1,
   "metadata": {},
   "outputs": [],
   "source": [
    "import spacy\n",
    "from spacy import displacy  # Use displacy to visualize the dependency tree\n",
    "import re\n",
    "import nltk\n",
    "import warnings\n",
    "\n",
    "nlp = spacy.load('en_core_web_trf')  # load language model\n",
    "warnings.filterwarnings(\"ignore\")\n",
    "# ignore warning, mainly ignore the warning about GPU"
   ]
  },
  {
   "cell_type": "markdown",
   "metadata": {},
   "source": [
    "`Load Data`  \n",
    "We load the corpus to a list"
   ]
  },
  {
   "cell_type": "code",
   "execution_count": 2,
   "metadata": {},
   "outputs": [],
   "source": [
    "corpus = []\n",
    "with open(\"./data/dataset.txt\", mode='r') as file:\n",
    "    sentence = file.readline()\n",
    "    while sentence:\n",
    "        corpus += [sentence]\n",
    "        sentence = file.readline()\n"
   ]
  },
  {
   "cell_type": "markdown",
   "metadata": {},
   "source": [
    "`Preprocess Corpus`  \n",
    "We mainly use regular expression to process the corpus"
   ]
  },
  {
   "cell_type": "code",
   "execution_count": 3,
   "metadata": {},
   "outputs": [],
   "source": [
    "def get_trigger(sentence: str):\n",
    "    trigger = []\n",
    "    tags = [' <e> ', ' </e> ']\n",
    "    for tag in tags:\n",
    "        lst = sentence.split(tag)\n",
    "        for i in range(0, len(lst) - 1):\n",
    "            trigger.append(lst[i].split(' ')[-1])\n",
    "    return trigger\n",
    "\n",
    "\n",
    "triggers = [get_trigger(sentence) for sentence in corpus]\n",
    "corpus = [re.sub(\" <[\\S]*> \", \" \", s) for s in corpus]\n",
    "corpus = [re.sub(\" \\. \", \".\", s) for s in corpus]\n",
    "corpus = [re.sub(\"[\\.]{3}\", \" ... \", s) for s in corpus]\n",
    "corpus = [re.sub(\" , \", \", \", s) for s in corpus]\n",
    "corpus = [re.sub(\" - \", \" \", s) for s in corpus]\n",
    "corpus = [re.sub(\"[ ]{2,}\", \" \", s) for s in corpus]\n",
    "corpus = [re.sub(\"\\n\", \"\", s) for s in corpus]"
   ]
  },
  {
   "cell_type": "markdown",
   "metadata": {},
   "source": [
    "`Get Dependency Tree`  "
   ]
  },
  {
   "cell_type": "code",
   "execution_count": 6,
   "metadata": {},
   "outputs": [],
   "source": [
    "\"\"\"\n",
    "The speed of dependency parsing is about 10 sentence per second.\n",
    "\"\"\"\n",
    "dependency = [nlp(sentence) for sentence in corpus[:10]]\n",
    "\n",
    "\n",
    "def transform(sentence):\n",
    "    def filter(word):\n",
    "        lst = [',', ' ', '.', '\"', \"'\"]\n",
    "        for s in lst:\n",
    "            if s == str(word):\n",
    "                return False\n",
    "        return True\n",
    "\n",
    "    def to_nltk_tree(node):\n",
    "        if node.n_lefts + node.n_rights > 0:\n",
    "            return node, [\n",
    "                to_nltk_tree(child) for child in node.children if filter(child)\n",
    "            ]\n",
    "        else:\n",
    "            return node\n",
    "\n",
    "    return [to_nltk_tree(sent.root) for sent in sentence.sents]\n",
    "\n",
    "\n",
    "trees = [transform(sentence) for sentence in dependency]\n"
   ]
  },
  {
   "cell_type": "markdown",
   "metadata": {},
   "source": [
    "`Extract Event`"
   ]
  },
  {
   "cell_type": "code",
   "execution_count": null,
   "metadata": {},
   "outputs": [],
   "source": [
    "def find_movement(trigger):\n",
    "    \"\"\"\n",
    "    This function find the root of the subtree discribing the event\n",
    "    containing the trigger. \n",
    "    Note that the root is a verb, the following work will base on this subtree\n",
    "    Args:\n",
    "        trigger: event trigger words\n",
    "    \"\"\"\n",
    "    pass\n",
    "\n",
    "\n",
    "def find_subject(moment, trigger, exclude):\n",
    "    \"\"\"\n",
    "    \n",
    "    Args:\n",
    "        moment (_type_): _description_\n",
    "        trigger (_type_): _description_\n",
    "        exclude (_type_): _description_\n",
    "    \"\"\"\n",
    "    pass\n",
    "\n",
    "\n",
    "def find_object(moment, trigger, exclude):\n",
    "    \"\"\"\n",
    "    \n",
    "    Args:\n",
    "        moment (_type_): _description_\n",
    "        trigger (_type_): _description_\n",
    "        exclude (_type_): _description_\n",
    "    \"\"\"\n",
    "    pass\n"
   ]
  },
  {
   "cell_type": "markdown",
   "metadata": {},
   "source": [
    "` `"
   ]
  },
  {
   "cell_type": "code",
   "execution_count": 5,
   "metadata": {},
   "outputs": [],
   "source": [
    "def extract(trigger):\n",
    "    \"\"\"\n",
    "    Extract event and event attribute vai mention tokens generate by spacy\n",
    "    Args:\n",
    "    trigger: event trigger words\n",
    "    Returns:\n",
    "    \"\"\"\n",
    "    movement = find_movement(trigger)\n",
    "    subject, passive = find_subject(movement, trigger, exclude=[movement])\n",
    "    exclude = [movement]\n",
    "    if isinstance(subject, list):\n",
    "        exclude.extend(subject)\n",
    "    else:\n",
    "        exclude.append(subject)\n",
    "    obj = find_object(movement, trigger, exclude=exclude)\n",
    "    if passive or subject == obj:\n",
    "        obj = None\n",
    "    return (subject, passive), movement, obj"
   ]
  }
 ],
 "metadata": {
  "interpreter": {
   "hash": "4905652b14e4b7eb92899b78ac499a22c488804455b27940a322fd82aaf71031"
  },
  "kernelspec": {
   "display_name": "Python 3.9.7 ('base')",
   "language": "python",
   "name": "python3"
  },
  "language_info": {
   "codemirror_mode": {
    "name": "ipython",
    "version": 3
   },
   "file_extension": ".py",
   "mimetype": "text/x-python",
   "name": "python",
   "nbconvert_exporter": "python",
   "pygments_lexer": "ipython3",
   "version": "3.9.7"
  },
  "orig_nbformat": 4
 },
 "nbformat": 4,
 "nbformat_minor": 2
}
