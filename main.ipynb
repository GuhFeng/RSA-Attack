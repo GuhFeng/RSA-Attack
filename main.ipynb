{
 "cells": [
  {
   "cell_type": "markdown",
   "metadata": {},
   "source": [
    "# RSA密码破译"
   ]
  },
  {
   "cell_type": "markdown",
   "metadata": {},
   "source": [
    "`Import the necesssary module`"
   ]
  },
  {
   "cell_type": "code",
   "execution_count": 18,
   "metadata": {},
   "outputs": [],
   "source": [
    "from sympy.ntheory.modular import crt\n",
    "import gmpy2\n",
    "from Crypto.Util.number import *\n",
    "import owiener"
   ]
  },
  {
   "cell_type": "markdown",
   "metadata": {},
   "source": [
    "`Load data`"
   ]
  },
  {
   "cell_type": "code",
   "execution_count": 4,
   "metadata": {},
   "outputs": [],
   "source": [
    "def load_data(datanum):\n",
    "    with open(file=\"./test/data%d\" % (datanum), mode='r') as file:\n",
    "        n, e, c = file.read(256), file.read(256), file.read(256)\n",
    "        n, e, c = int(n, 16), int(e, 16), int(c, 16)\n",
    "        return n, e, c\n"
   ]
  },
  {
   "cell_type": "markdown",
   "metadata": {},
   "source": [
    "`Attack RSA`"
   ]
  },
  {
   "cell_type": "code",
   "execution_count": 5,
   "metadata": {},
   "outputs": [],
   "source": [
    "# receive n,e,c as parameters, return m and d\n",
    "# 低加密指数攻击\n",
    "# 已经尝试过, 跑了90min一个没跑出来\n",
    "# 主要原因在于原文m开头添加了一系列的1\n",
    "def attack1(n, e, c):\n",
    "    if e > 2:\n",
    "        return -1\n",
    "    i = 0\n",
    "    while 1:\n",
    "        tmp = gmpy2.iroot(c + i * n, e)\n",
    "        if tmp[1]:\n",
    "            return tmp[0]\n",
    "        else:\n",
    "            i += 1\n",
    "\n",
    "\n",
    "# 低加密指数广播攻击\n",
    "def attack2(n, e, c):\n",
    "    pass\n",
    "    #TODO\n",
    "    return -1\n",
    "\n",
    "\n",
    "# 维纳攻击\n",
    "def attack3(n, e, c):\n",
    "    if e < 10000000:\n",
    "        return -1\n",
    "    d=owiener.attack(e,n)\n",
    "    if d is None:\n",
    "        print(\"Failed\")\n",
    "    else:\n",
    "        print(\"Hacked d={}\".format(d))\n",
    "    \n",
    "import math\n"
   ]
  },
  {
   "cell_type": "code",
   "execution_count": 6,
   "metadata": {},
   "outputs": [],
   "source": [
    "def attack_broadcast(e,lst_c,lst_n):\n",
    "    M=1\n",
    "    for n in lst_n:\n",
    "        M=M*n\n",
    "    lst_M=[]\n",
    "    for n in lst_n:\n",
    "        lst_M+=[M//n]\n",
    "    m_e=M\n",
    "    for i in range(len(lst_c)):\n",
    "        m_e+=lst_c[i]*lst_M[i]*invert(lst_M[i],lst_n[i])\n",
    "        print(i)\n",
    "    m_e=m_e%M\n",
    "    m=iroot(m_e,e)\n",
    "    i=0\n",
    "    while not m[1]:\n",
    "        m_e+=M\n",
    "        i+=1\n",
    "        m=iroot(m_e,e)\n",
    "    return m"
   ]
  },
  {
   "cell_type": "code",
   "execution_count": 25,
   "metadata": {},
   "outputs": [
    {
     "name": "stdout",
     "output_type": "stream",
     "text": [
      "4\n",
      "5\n",
      "7\n",
      "13\n",
      "18\n"
     ]
    }
   ],
   "source": [
    "lst_c,lst_n=[],[]\n",
    "for i in range(21):\n",
    "    n,e,c=load_data(i)\n",
    "    if e==5:\n",
    "        print(i)"
   ]
  }
 ],
 "metadata": {
  "interpreter": {
   "hash": "4905652b14e4b7eb92899b78ac499a22c488804455b27940a322fd82aaf71031"
  },
  "kernelspec": {
   "display_name": "Python 3.9.7 ('base')",
   "language": "python",
   "name": "python3"
  },
  "language_info": {
   "codemirror_mode": {
    "name": "ipython",
    "version": 3
   },
   "file_extension": ".py",
   "mimetype": "text/x-python",
   "name": "python",
   "nbconvert_exporter": "python",
   "pygments_lexer": "ipython3",
   "version": "3.9.7"
  },
  "orig_nbformat": 4
 },
 "nbformat": 4,
 "nbformat_minor": 2
}
